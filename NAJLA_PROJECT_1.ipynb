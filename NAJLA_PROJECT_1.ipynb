{
 "cells": [
  {
   "cell_type": "markdown",
   "metadata": {
    "id": "g7dnTksj9s-a"
   },
   "source": [
    "EDA of Social Network Ads "
   ]
  },
  {
   "cell_type": "code",
   "execution_count": 1,
   "metadata": {},
   "outputs": [],
   "source": [
    "import nbconvert"
   ]
  },
  {
   "cell_type": "code",
   "execution_count": 1,
   "metadata": {
    "colab": {
     "base_uri": "https://localhost:8080/",
     "height": 423
    },
    "id": "KmYsU8dre2Sq",
    "outputId": "78de5ed7-33f9-4121-8a99-68fd335ff54d"
   },
   "outputs": [
    {
     "data": {
      "text/html": [
       "<div>\n",
       "<style scoped>\n",
       "    .dataframe tbody tr th:only-of-type {\n",
       "        vertical-align: middle;\n",
       "    }\n",
       "\n",
       "    .dataframe tbody tr th {\n",
       "        vertical-align: top;\n",
       "    }\n",
       "\n",
       "    .dataframe thead th {\n",
       "        text-align: right;\n",
       "    }\n",
       "</style>\n",
       "<table border=\"1\" class=\"dataframe\">\n",
       "  <thead>\n",
       "    <tr style=\"text-align: right;\">\n",
       "      <th></th>\n",
       "      <th>User ID</th>\n",
       "      <th>Gender</th>\n",
       "      <th>Age</th>\n",
       "      <th>EstimatedSalary</th>\n",
       "      <th>Purchased</th>\n",
       "    </tr>\n",
       "  </thead>\n",
       "  <tbody>\n",
       "    <tr>\n",
       "      <th>0</th>\n",
       "      <td>15624510.0</td>\n",
       "      <td>Male</td>\n",
       "      <td>19.0</td>\n",
       "      <td>19000.0</td>\n",
       "      <td>0.0</td>\n",
       "    </tr>\n",
       "    <tr>\n",
       "      <th>1</th>\n",
       "      <td>15810944.0</td>\n",
       "      <td>Male</td>\n",
       "      <td>35.0</td>\n",
       "      <td>20000.0</td>\n",
       "      <td>0.0</td>\n",
       "    </tr>\n",
       "    <tr>\n",
       "      <th>2</th>\n",
       "      <td>15668575.0</td>\n",
       "      <td>Female</td>\n",
       "      <td>26.0</td>\n",
       "      <td>43000.0</td>\n",
       "      <td>0.0</td>\n",
       "    </tr>\n",
       "    <tr>\n",
       "      <th>3</th>\n",
       "      <td>15603246.0</td>\n",
       "      <td>Female</td>\n",
       "      <td>27.0</td>\n",
       "      <td>57000.0</td>\n",
       "      <td>0.0</td>\n",
       "    </tr>\n",
       "    <tr>\n",
       "      <th>4</th>\n",
       "      <td>15804002.0</td>\n",
       "      <td>Male</td>\n",
       "      <td>19.0</td>\n",
       "      <td>76000.0</td>\n",
       "      <td>0.0</td>\n",
       "    </tr>\n",
       "    <tr>\n",
       "      <th>...</th>\n",
       "      <td>...</td>\n",
       "      <td>...</td>\n",
       "      <td>...</td>\n",
       "      <td>...</td>\n",
       "      <td>...</td>\n",
       "    </tr>\n",
       "    <tr>\n",
       "      <th>395</th>\n",
       "      <td>15691863.0</td>\n",
       "      <td>Female</td>\n",
       "      <td>46.0</td>\n",
       "      <td>41000.0</td>\n",
       "      <td>1.0</td>\n",
       "    </tr>\n",
       "    <tr>\n",
       "      <th>396</th>\n",
       "      <td>15706071.0</td>\n",
       "      <td>Male</td>\n",
       "      <td>51.0</td>\n",
       "      <td>23000.0</td>\n",
       "      <td>1.0</td>\n",
       "    </tr>\n",
       "    <tr>\n",
       "      <th>397</th>\n",
       "      <td>15654296.0</td>\n",
       "      <td>Female</td>\n",
       "      <td>50.0</td>\n",
       "      <td>20000.0</td>\n",
       "      <td>1.0</td>\n",
       "    </tr>\n",
       "    <tr>\n",
       "      <th>398</th>\n",
       "      <td>15755018.0</td>\n",
       "      <td>Male</td>\n",
       "      <td>36.0</td>\n",
       "      <td>33000.0</td>\n",
       "      <td>0.0</td>\n",
       "    </tr>\n",
       "    <tr>\n",
       "      <th>399</th>\n",
       "      <td>15594041.0</td>\n",
       "      <td>Female</td>\n",
       "      <td>49.0</td>\n",
       "      <td>36000.0</td>\n",
       "      <td>1.0</td>\n",
       "    </tr>\n",
       "  </tbody>\n",
       "</table>\n",
       "<p>400 rows × 5 columns</p>\n",
       "</div>"
      ],
      "text/plain": [
       "        User ID  Gender   Age  EstimatedSalary  Purchased\n",
       "0    15624510.0    Male  19.0          19000.0        0.0\n",
       "1    15810944.0    Male  35.0          20000.0        0.0\n",
       "2    15668575.0  Female  26.0          43000.0        0.0\n",
       "3    15603246.0  Female  27.0          57000.0        0.0\n",
       "4    15804002.0    Male  19.0          76000.0        0.0\n",
       "..          ...     ...   ...              ...        ...\n",
       "395  15691863.0  Female  46.0          41000.0        1.0\n",
       "396  15706071.0    Male  51.0          23000.0        1.0\n",
       "397  15654296.0  Female  50.0          20000.0        1.0\n",
       "398  15755018.0    Male  36.0          33000.0        0.0\n",
       "399  15594041.0  Female  49.0          36000.0        1.0\n",
       "\n",
       "[400 rows x 5 columns]"
      ]
     },
     "execution_count": 1,
     "metadata": {},
     "output_type": "execute_result"
    }
   ],
   "source": [
    "import pandas as pd\n",
    "import numpy as np\n",
    "\n",
    "social_network_ads = pd.read_csv('Social_Network_Ads.csv')\n",
    "\n",
    "social_network_ads"
   ]
  },
  {
   "cell_type": "code",
   "execution_count": null,
   "metadata": {
    "colab": {
     "base_uri": "https://localhost:8080/"
    },
    "id": "WP9dsaAAgANV",
    "outputId": "a3ee3047-6126-45e5-aca0-ac06727636f0"
   },
   "outputs": [
    {
     "name": "stdout",
     "output_type": "stream",
     "text": [
      "type:  <class 'pandas.core.frame.DataFrame'>\n",
      "shape:  (400, 5)\n"
     ]
    }
   ],
   "source": [
    "print(\"type: \", type(social_network_ads))\n",
    "print(\"shape: \", social_network_ads.shape)"
   ]
  },
  {
   "cell_type": "code",
   "execution_count": null,
   "metadata": {
    "colab": {
     "base_uri": "https://localhost:8080/",
     "height": 206
    },
    "id": "MyW9gJi4g6hc",
    "outputId": "282ab6ce-fe58-4fb9-caea-b464ea1347b5"
   },
   "outputs": [
    {
     "data": {
      "text/html": [
       "<div>\n",
       "<style scoped>\n",
       "    .dataframe tbody tr th:only-of-type {\n",
       "        vertical-align: middle;\n",
       "    }\n",
       "\n",
       "    .dataframe tbody tr th {\n",
       "        vertical-align: top;\n",
       "    }\n",
       "\n",
       "    .dataframe thead th {\n",
       "        text-align: right;\n",
       "    }\n",
       "</style>\n",
       "<table border=\"1\" class=\"dataframe\">\n",
       "  <thead>\n",
       "    <tr style=\"text-align: right;\">\n",
       "      <th></th>\n",
       "      <th>User ID</th>\n",
       "      <th>Gender</th>\n",
       "      <th>Age</th>\n",
       "      <th>EstimatedSalary</th>\n",
       "      <th>Purchased</th>\n",
       "    </tr>\n",
       "  </thead>\n",
       "  <tbody>\n",
       "    <tr>\n",
       "      <th>0</th>\n",
       "      <td>15624510.0</td>\n",
       "      <td>Male</td>\n",
       "      <td>19.0</td>\n",
       "      <td>19000.0</td>\n",
       "      <td>0.0</td>\n",
       "    </tr>\n",
       "    <tr>\n",
       "      <th>1</th>\n",
       "      <td>15810944.0</td>\n",
       "      <td>Male</td>\n",
       "      <td>35.0</td>\n",
       "      <td>20000.0</td>\n",
       "      <td>0.0</td>\n",
       "    </tr>\n",
       "    <tr>\n",
       "      <th>2</th>\n",
       "      <td>15668575.0</td>\n",
       "      <td>Female</td>\n",
       "      <td>26.0</td>\n",
       "      <td>43000.0</td>\n",
       "      <td>0.0</td>\n",
       "    </tr>\n",
       "    <tr>\n",
       "      <th>3</th>\n",
       "      <td>15603246.0</td>\n",
       "      <td>Female</td>\n",
       "      <td>27.0</td>\n",
       "      <td>57000.0</td>\n",
       "      <td>0.0</td>\n",
       "    </tr>\n",
       "    <tr>\n",
       "      <th>4</th>\n",
       "      <td>15804002.0</td>\n",
       "      <td>Male</td>\n",
       "      <td>19.0</td>\n",
       "      <td>76000.0</td>\n",
       "      <td>0.0</td>\n",
       "    </tr>\n",
       "  </tbody>\n",
       "</table>\n",
       "</div>"
      ],
      "text/plain": [
       "      User ID  Gender   Age  EstimatedSalary  Purchased\n",
       "0  15624510.0    Male  19.0          19000.0        0.0\n",
       "1  15810944.0    Male  35.0          20000.0        0.0\n",
       "2  15668575.0  Female  26.0          43000.0        0.0\n",
       "3  15603246.0  Female  27.0          57000.0        0.0\n",
       "4  15804002.0    Male  19.0          76000.0        0.0"
      ]
     },
     "execution_count": 3,
     "metadata": {
      "tags": []
     },
     "output_type": "execute_result"
    }
   ],
   "source": [
    "social_network_ads.head()"
   ]
  },
  {
   "cell_type": "code",
   "execution_count": null,
   "metadata": {
    "colab": {
     "base_uri": "https://localhost:8080/",
     "height": 206
    },
    "id": "8rk0QcDHhjFe",
    "outputId": "56379e12-5b83-481d-877e-5cd73b69df9a"
   },
   "outputs": [
    {
     "data": {
      "text/html": [
       "<div>\n",
       "<style scoped>\n",
       "    .dataframe tbody tr th:only-of-type {\n",
       "        vertical-align: middle;\n",
       "    }\n",
       "\n",
       "    .dataframe tbody tr th {\n",
       "        vertical-align: top;\n",
       "    }\n",
       "\n",
       "    .dataframe thead th {\n",
       "        text-align: right;\n",
       "    }\n",
       "</style>\n",
       "<table border=\"1\" class=\"dataframe\">\n",
       "  <thead>\n",
       "    <tr style=\"text-align: right;\">\n",
       "      <th></th>\n",
       "      <th>User ID</th>\n",
       "      <th>Gender</th>\n",
       "      <th>Age</th>\n",
       "      <th>EstimatedSalary</th>\n",
       "      <th>Purchased</th>\n",
       "    </tr>\n",
       "  </thead>\n",
       "  <tbody>\n",
       "    <tr>\n",
       "      <th>395</th>\n",
       "      <td>15691863.0</td>\n",
       "      <td>Female</td>\n",
       "      <td>46.0</td>\n",
       "      <td>41000.0</td>\n",
       "      <td>1.0</td>\n",
       "    </tr>\n",
       "    <tr>\n",
       "      <th>396</th>\n",
       "      <td>15706071.0</td>\n",
       "      <td>Male</td>\n",
       "      <td>51.0</td>\n",
       "      <td>23000.0</td>\n",
       "      <td>1.0</td>\n",
       "    </tr>\n",
       "    <tr>\n",
       "      <th>397</th>\n",
       "      <td>15654296.0</td>\n",
       "      <td>Female</td>\n",
       "      <td>50.0</td>\n",
       "      <td>20000.0</td>\n",
       "      <td>1.0</td>\n",
       "    </tr>\n",
       "    <tr>\n",
       "      <th>398</th>\n",
       "      <td>15755018.0</td>\n",
       "      <td>Male</td>\n",
       "      <td>36.0</td>\n",
       "      <td>33000.0</td>\n",
       "      <td>0.0</td>\n",
       "    </tr>\n",
       "    <tr>\n",
       "      <th>399</th>\n",
       "      <td>15594041.0</td>\n",
       "      <td>Female</td>\n",
       "      <td>49.0</td>\n",
       "      <td>36000.0</td>\n",
       "      <td>1.0</td>\n",
       "    </tr>\n",
       "  </tbody>\n",
       "</table>\n",
       "</div>"
      ],
      "text/plain": [
       "        User ID  Gender   Age  EstimatedSalary  Purchased\n",
       "395  15691863.0  Female  46.0          41000.0        1.0\n",
       "396  15706071.0    Male  51.0          23000.0        1.0\n",
       "397  15654296.0  Female  50.0          20000.0        1.0\n",
       "398  15755018.0    Male  36.0          33000.0        0.0\n",
       "399  15594041.0  Female  49.0          36000.0        1.0"
      ]
     },
     "execution_count": 4,
     "metadata": {
      "tags": []
     },
     "output_type": "execute_result"
    }
   ],
   "source": [
    "social_network_ads.tail()"
   ]
  },
  {
   "cell_type": "code",
   "execution_count": null,
   "metadata": {
    "colab": {
     "base_uri": "https://localhost:8080/"
    },
    "id": "La1kz7Vv0GV2",
    "outputId": "2e7e4a0a-00b7-4b89-f7a6-a046a2817068"
   },
   "outputs": [
    {
     "data": {
      "text/plain": [
       "User ID            373\n",
       "Gender             364\n",
       "Age                370\n",
       "EstimatedSalary    384\n",
       "Purchased          389\n",
       "dtype: int64"
      ]
     },
     "execution_count": 5,
     "metadata": {
      "tags": []
     },
     "output_type": "execute_result"
    }
   ],
   "source": [
    "social_network_ads.count()"
   ]
  },
  {
   "cell_type": "code",
   "execution_count": null,
   "metadata": {
    "colab": {
     "base_uri": "https://localhost:8080/"
    },
    "id": "LkagLOKMhrZD",
    "outputId": "d09437df-8287-4a11-eac9-abe5f597a3e5"
   },
   "outputs": [
    {
     "data": {
      "text/plain": [
       "User ID            27\n",
       "Gender             36\n",
       "Age                30\n",
       "EstimatedSalary    16\n",
       "Purchased          11\n",
       "dtype: int64"
      ]
     },
     "execution_count": 7,
     "metadata": {
      "tags": []
     },
     "output_type": "execute_result"
    }
   ],
   "source": [
    "social_network_ads.isnull().sum()"
   ]
  },
  {
   "cell_type": "code",
   "execution_count": null,
   "metadata": {
    "colab": {
     "base_uri": "https://localhost:8080/",
     "height": 423
    },
    "id": "ieWfA4qYwzjF",
    "outputId": "def299f6-f1f2-4f51-b471-644fd11876e2"
   },
   "outputs": [
    {
     "data": {
      "text/html": [
       "<div>\n",
       "<style scoped>\n",
       "    .dataframe tbody tr th:only-of-type {\n",
       "        vertical-align: middle;\n",
       "    }\n",
       "\n",
       "    .dataframe tbody tr th {\n",
       "        vertical-align: top;\n",
       "    }\n",
       "\n",
       "    .dataframe thead th {\n",
       "        text-align: right;\n",
       "    }\n",
       "</style>\n",
       "<table border=\"1\" class=\"dataframe\">\n",
       "  <thead>\n",
       "    <tr style=\"text-align: right;\">\n",
       "      <th></th>\n",
       "      <th>User ID</th>\n",
       "      <th>Gender</th>\n",
       "      <th>Age</th>\n",
       "      <th>EstimatedSalary</th>\n",
       "      <th>Purchased</th>\n",
       "    </tr>\n",
       "  </thead>\n",
       "  <tbody>\n",
       "    <tr>\n",
       "      <th>0</th>\n",
       "      <td>15624510.0</td>\n",
       "      <td>Male</td>\n",
       "      <td>19.0</td>\n",
       "      <td>19000.0</td>\n",
       "      <td>0.0</td>\n",
       "    </tr>\n",
       "    <tr>\n",
       "      <th>1</th>\n",
       "      <td>15810944.0</td>\n",
       "      <td>Male</td>\n",
       "      <td>35.0</td>\n",
       "      <td>20000.0</td>\n",
       "      <td>0.0</td>\n",
       "    </tr>\n",
       "    <tr>\n",
       "      <th>2</th>\n",
       "      <td>15668575.0</td>\n",
       "      <td>Female</td>\n",
       "      <td>26.0</td>\n",
       "      <td>43000.0</td>\n",
       "      <td>0.0</td>\n",
       "    </tr>\n",
       "    <tr>\n",
       "      <th>3</th>\n",
       "      <td>15603246.0</td>\n",
       "      <td>Female</td>\n",
       "      <td>27.0</td>\n",
       "      <td>57000.0</td>\n",
       "      <td>0.0</td>\n",
       "    </tr>\n",
       "    <tr>\n",
       "      <th>4</th>\n",
       "      <td>15804002.0</td>\n",
       "      <td>Male</td>\n",
       "      <td>19.0</td>\n",
       "      <td>76000.0</td>\n",
       "      <td>0.0</td>\n",
       "    </tr>\n",
       "    <tr>\n",
       "      <th>...</th>\n",
       "      <td>...</td>\n",
       "      <td>...</td>\n",
       "      <td>...</td>\n",
       "      <td>...</td>\n",
       "      <td>...</td>\n",
       "    </tr>\n",
       "    <tr>\n",
       "      <th>395</th>\n",
       "      <td>15691863.0</td>\n",
       "      <td>Female</td>\n",
       "      <td>46.0</td>\n",
       "      <td>41000.0</td>\n",
       "      <td>1.0</td>\n",
       "    </tr>\n",
       "    <tr>\n",
       "      <th>396</th>\n",
       "      <td>15706071.0</td>\n",
       "      <td>Male</td>\n",
       "      <td>51.0</td>\n",
       "      <td>23000.0</td>\n",
       "      <td>1.0</td>\n",
       "    </tr>\n",
       "    <tr>\n",
       "      <th>397</th>\n",
       "      <td>15654296.0</td>\n",
       "      <td>Female</td>\n",
       "      <td>50.0</td>\n",
       "      <td>20000.0</td>\n",
       "      <td>1.0</td>\n",
       "    </tr>\n",
       "    <tr>\n",
       "      <th>398</th>\n",
       "      <td>15755018.0</td>\n",
       "      <td>Male</td>\n",
       "      <td>36.0</td>\n",
       "      <td>33000.0</td>\n",
       "      <td>0.0</td>\n",
       "    </tr>\n",
       "    <tr>\n",
       "      <th>399</th>\n",
       "      <td>15594041.0</td>\n",
       "      <td>Female</td>\n",
       "      <td>49.0</td>\n",
       "      <td>36000.0</td>\n",
       "      <td>1.0</td>\n",
       "    </tr>\n",
       "  </tbody>\n",
       "</table>\n",
       "<p>400 rows × 5 columns</p>\n",
       "</div>"
      ],
      "text/plain": [
       "        User ID  Gender   Age  EstimatedSalary  Purchased\n",
       "0    15624510.0    Male  19.0          19000.0        0.0\n",
       "1    15810944.0    Male  35.0          20000.0        0.0\n",
       "2    15668575.0  Female  26.0          43000.0        0.0\n",
       "3    15603246.0  Female  27.0          57000.0        0.0\n",
       "4    15804002.0    Male  19.0          76000.0        0.0\n",
       "..          ...     ...   ...              ...        ...\n",
       "395  15691863.0  Female  46.0          41000.0        1.0\n",
       "396  15706071.0    Male  51.0          23000.0        1.0\n",
       "397  15654296.0  Female  50.0          20000.0        1.0\n",
       "398  15755018.0    Male  36.0          33000.0        0.0\n",
       "399  15594041.0  Female  49.0          36000.0        1.0\n",
       "\n",
       "[400 rows x 5 columns]"
      ]
     },
     "execution_count": 8,
     "metadata": {
      "tags": []
     },
     "output_type": "execute_result"
    }
   ],
   "source": [
    "new_social_network_ads = social_network_ads.interpolate()\n",
    "new_social_network_ads"
   ]
  },
  {
   "cell_type": "code",
   "execution_count": null,
   "metadata": {
    "colab": {
     "base_uri": "https://localhost:8080/",
     "height": 455
    },
    "id": "uIRmKgzb_OcD",
    "outputId": "43379077-b61f-49aa-98b7-30c79279c92b"
   },
   "outputs": [
    {
     "data": {
      "text/html": [
       "<div>\n",
       "<style scoped>\n",
       "    .dataframe tbody tr th:only-of-type {\n",
       "        vertical-align: middle;\n",
       "    }\n",
       "\n",
       "    .dataframe tbody tr th {\n",
       "        vertical-align: top;\n",
       "    }\n",
       "\n",
       "    .dataframe thead th {\n",
       "        text-align: right;\n",
       "    }\n",
       "</style>\n",
       "<table border=\"1\" class=\"dataframe\">\n",
       "  <thead>\n",
       "    <tr style=\"text-align: right;\">\n",
       "      <th></th>\n",
       "      <th>Gender</th>\n",
       "      <th>Age</th>\n",
       "      <th>EstimatedSalary</th>\n",
       "      <th>Purchased</th>\n",
       "    </tr>\n",
       "    <tr>\n",
       "      <th>User ID</th>\n",
       "      <th></th>\n",
       "      <th></th>\n",
       "      <th></th>\n",
       "      <th></th>\n",
       "    </tr>\n",
       "  </thead>\n",
       "  <tbody>\n",
       "    <tr>\n",
       "      <th>15566689.0</th>\n",
       "      <td>Female</td>\n",
       "      <td>35.0</td>\n",
       "      <td>57000.0</td>\n",
       "      <td>0.0</td>\n",
       "    </tr>\n",
       "    <tr>\n",
       "      <th>15569641.0</th>\n",
       "      <td>Female</td>\n",
       "      <td>58.0</td>\n",
       "      <td>95000.0</td>\n",
       "      <td>1.0</td>\n",
       "    </tr>\n",
       "    <tr>\n",
       "      <th>15570932.0</th>\n",
       "      <td>Male</td>\n",
       "      <td>34.0</td>\n",
       "      <td>115000.0</td>\n",
       "      <td>0.0</td>\n",
       "    </tr>\n",
       "    <tr>\n",
       "      <th>15571059.0</th>\n",
       "      <td>Female</td>\n",
       "      <td>33.0</td>\n",
       "      <td>41000.0</td>\n",
       "      <td>0.0</td>\n",
       "    </tr>\n",
       "    <tr>\n",
       "      <th>15573452.0</th>\n",
       "      <td>Female</td>\n",
       "      <td>21.0</td>\n",
       "      <td>16000.0</td>\n",
       "      <td>0.0</td>\n",
       "    </tr>\n",
       "    <tr>\n",
       "      <th>...</th>\n",
       "      <td>...</td>\n",
       "      <td>...</td>\n",
       "      <td>...</td>\n",
       "      <td>...</td>\n",
       "    </tr>\n",
       "    <tr>\n",
       "      <th>15811613.0</th>\n",
       "      <td>Female</td>\n",
       "      <td>36.0</td>\n",
       "      <td>75000.0</td>\n",
       "      <td>0.0</td>\n",
       "    </tr>\n",
       "    <tr>\n",
       "      <th>15813113.0</th>\n",
       "      <td>Male</td>\n",
       "      <td>40.0</td>\n",
       "      <td>107000.0</td>\n",
       "      <td>1.0</td>\n",
       "    </tr>\n",
       "    <tr>\n",
       "      <th>15814004.0</th>\n",
       "      <td>Male</td>\n",
       "      <td>27.0</td>\n",
       "      <td>20000.0</td>\n",
       "      <td>0.0</td>\n",
       "    </tr>\n",
       "    <tr>\n",
       "      <th>15814816.0</th>\n",
       "      <td>Male</td>\n",
       "      <td>31.0</td>\n",
       "      <td>66000.0</td>\n",
       "      <td>0.0</td>\n",
       "    </tr>\n",
       "    <tr>\n",
       "      <th>15815236.0</th>\n",
       "      <td>Female</td>\n",
       "      <td>45.0</td>\n",
       "      <td>131000.0</td>\n",
       "      <td>1.0</td>\n",
       "    </tr>\n",
       "  </tbody>\n",
       "</table>\n",
       "<p>400 rows × 4 columns</p>\n",
       "</div>"
      ],
      "text/plain": [
       "            Gender   Age  EstimatedSalary  Purchased\n",
       "User ID                                             \n",
       "15566689.0  Female  35.0          57000.0        0.0\n",
       "15569641.0  Female  58.0          95000.0        1.0\n",
       "15570932.0    Male  34.0         115000.0        0.0\n",
       "15571059.0  Female  33.0          41000.0        0.0\n",
       "15573452.0  Female  21.0          16000.0        0.0\n",
       "...            ...   ...              ...        ...\n",
       "15811613.0  Female  36.0          75000.0        0.0\n",
       "15813113.0    Male  40.0         107000.0        1.0\n",
       "15814004.0    Male  27.0          20000.0        0.0\n",
       "15814816.0    Male  31.0          66000.0        0.0\n",
       "15815236.0  Female  45.0         131000.0        1.0\n",
       "\n",
       "[400 rows x 4 columns]"
      ]
     },
     "execution_count": 66,
     "metadata": {
      "tags": []
     },
     "output_type": "execute_result"
    }
   ],
   "source": [
    " new_social_network_ads.sort_values('User ID')"
   ]
  },
  {
   "cell_type": "code",
   "execution_count": null,
   "metadata": {
    "colab": {
     "base_uri": "https://localhost:8080/",
     "height": 175
    },
    "id": "UN1nWqWnELSj",
    "outputId": "1e21e512-2ce2-42aa-91a8-8b094fe538d6"
   },
   "outputs": [
    {
     "data": {
      "text/html": [
       "<div>\n",
       "<style scoped>\n",
       "    .dataframe tbody tr th:only-of-type {\n",
       "        vertical-align: middle;\n",
       "    }\n",
       "\n",
       "    .dataframe tbody tr th {\n",
       "        vertical-align: top;\n",
       "    }\n",
       "\n",
       "    .dataframe thead th {\n",
       "        text-align: right;\n",
       "    }\n",
       "</style>\n",
       "<table border=\"1\" class=\"dataframe\">\n",
       "  <thead>\n",
       "    <tr style=\"text-align: right;\">\n",
       "      <th></th>\n",
       "      <th>User ID</th>\n",
       "      <th>Age</th>\n",
       "      <th>EstimatedSalary</th>\n",
       "      <th>Purchased</th>\n",
       "    </tr>\n",
       "  </thead>\n",
       "  <tbody>\n",
       "    <tr>\n",
       "      <th>User ID</th>\n",
       "      <td>1.000000</td>\n",
       "      <td>-0.033063</td>\n",
       "      <td>0.078835</td>\n",
       "      <td>-0.007541</td>\n",
       "    </tr>\n",
       "    <tr>\n",
       "      <th>Age</th>\n",
       "      <td>-0.033063</td>\n",
       "      <td>1.000000</td>\n",
       "      <td>0.187845</td>\n",
       "      <td>0.634470</td>\n",
       "    </tr>\n",
       "    <tr>\n",
       "      <th>EstimatedSalary</th>\n",
       "      <td>0.078835</td>\n",
       "      <td>0.187845</td>\n",
       "      <td>1.000000</td>\n",
       "      <td>0.350788</td>\n",
       "    </tr>\n",
       "    <tr>\n",
       "      <th>Purchased</th>\n",
       "      <td>-0.007541</td>\n",
       "      <td>0.634470</td>\n",
       "      <td>0.350788</td>\n",
       "      <td>1.000000</td>\n",
       "    </tr>\n",
       "  </tbody>\n",
       "</table>\n",
       "</div>"
      ],
      "text/plain": [
       "                  User ID       Age  EstimatedSalary  Purchased\n",
       "User ID          1.000000 -0.033063         0.078835  -0.007541\n",
       "Age             -0.033063  1.000000         0.187845   0.634470\n",
       "EstimatedSalary  0.078835  0.187845         1.000000   0.350788\n",
       "Purchased       -0.007541  0.634470         0.350788   1.000000"
      ]
     },
     "execution_count": 62,
     "metadata": {
      "tags": []
     },
     "output_type": "execute_result"
    }
   ],
   "source": [
    "new_social_network_ads.corr()"
   ]
  },
  {
   "cell_type": "code",
   "execution_count": null,
   "metadata": {
    "colab": {
     "base_uri": "https://localhost:8080/"
    },
    "id": "fXKho_J6EqiR",
    "outputId": "28cb3bec-2936-42e4-cdfb-8e62ca0839e6"
   },
   "outputs": [
    {
     "data": {
      "text/plain": [
       "Gender\n",
       "Female    0.365079\n",
       "Male      0.331429\n",
       "Name: Purchased, dtype: float64"
      ]
     },
     "execution_count": 12,
     "metadata": {
      "tags": []
     },
     "output_type": "execute_result"
    }
   ],
   "source": [
    "new_social_network_ads.groupby(['Gender'])['Purchased'].mean()"
   ]
  },
  {
   "cell_type": "markdown",
   "metadata": {
    "id": "shKZRjqSm_gS"
   },
   "source": [
    "female purchased more than male."
   ]
  },
  {
   "cell_type": "code",
   "execution_count": null,
   "metadata": {
    "colab": {
     "base_uri": "https://localhost:8080/"
    },
    "id": "ISVLOnNjFe51",
    "outputId": "95f7eb1e-efd4-4c6a-f1cd-893ce5116d79"
   },
   "outputs": [
    {
     "data": {
      "text/plain": [
       "EstimatedSalary\n",
       "15000.0     0.0\n",
       "16000.0     0.0\n",
       "17000.0     0.0\n",
       "18000.0     0.0\n",
       "19000.0     0.0\n",
       "           ... \n",
       "146000.0    1.0\n",
       "147000.0    1.0\n",
       "148000.0    1.0\n",
       "149000.0    1.0\n",
       "150000.0    1.0\n",
       "Name: Purchased, Length: 126, dtype: float64"
      ]
     },
     "execution_count": 84,
     "metadata": {
      "tags": []
     },
     "output_type": "execute_result"
    }
   ],
   "source": [
    "a = new_social_network_ads.groupby(['EstimatedSalary'])['Purchased'].mean()\n",
    "a"
   ]
  },
  {
   "cell_type": "code",
   "execution_count": null,
   "metadata": {
    "colab": {
     "base_uri": "https://localhost:8080/"
    },
    "id": "TyNstLHs1wUf",
    "outputId": "6a7c4cdd-3e4d-4a7b-a776-6bc04ae3f36e"
   },
   "outputs": [
    {
     "data": {
      "text/plain": [
       "EstimatedSalary\n",
       "80000.0     0.090909\n",
       "81000.0     0.000000\n",
       "82000.0     0.166667\n",
       "83000.0     0.250000\n",
       "84000.0     0.000000\n",
       "85000.0     0.000000\n",
       "86000.0     0.200000\n",
       "86400.0     0.200000\n",
       "87000.0     0.250000\n",
       "88000.0     0.571429\n",
       "89000.0     0.166667\n",
       "90000.0     0.750000\n",
       "91000.0     1.000000\n",
       "93000.0     1.000000\n",
       "93600.0     0.300000\n",
       "95000.0     1.000000\n",
       "96000.0     0.750000\n",
       "97000.0     1.000000\n",
       "99000.0     1.000000\n",
       "100800.0    0.400000\n",
       "101000.0    1.000000\n",
       "102000.0    1.000000\n",
       "104000.0    1.000000\n",
       "105000.0    1.000000\n",
       "106000.0    1.000000\n",
       "107000.0    1.000000\n",
       "108000.0    0.700000\n",
       "112000.0    0.666667\n",
       "113000.0    0.666667\n",
       "114000.0    0.000000\n",
       "115000.0    0.000000\n",
       "115200.0    0.600000\n",
       "116000.0    0.000000\n",
       "117000.0    0.666667\n",
       "118000.0    0.500000\n",
       "120000.0    1.000000\n",
       "122000.0    1.000000\n",
       "122400.0    0.700000\n",
       "125000.0    1.000000\n",
       "126000.0    1.000000\n",
       "129000.0    1.000000\n",
       "129600.0    0.800000\n",
       "130000.0    1.000000\n",
       "131000.0    1.000000\n",
       "133000.0    0.500000\n",
       "134000.0    0.750000\n",
       "135000.0    1.000000\n",
       "136800.0    0.900000\n",
       "137000.0    1.000000\n",
       "138000.0    1.000000\n",
       "139000.0    1.000000\n",
       "141000.0    0.500000\n",
       "142000.0    1.000000\n",
       "143000.0    1.000000\n",
       "144000.0    1.000000\n",
       "146000.0    1.000000\n",
       "147000.0    1.000000\n",
       "148000.0    1.000000\n",
       "149000.0    1.000000\n",
       "150000.0    1.000000\n",
       "Name: Purchased, dtype: float64"
      ]
     },
     "execution_count": 85,
     "metadata": {
      "tags": []
     },
     "output_type": "execute_result"
    }
   ],
   "source": [
    "a.tail(60)"
   ]
  },
  {
   "cell_type": "markdown",
   "metadata": {
    "id": "vSe866Ft0SY9"
   },
   "source": [
    "People with Higher Salaries purchased products. Approx. people having their salary above 90,000 purchased more.\n",
    "\n",
    "---\n",
    "\n"
   ]
  },
  {
   "cell_type": "code",
   "execution_count": null,
   "metadata": {
    "id": "6Svjds24g0WC"
   },
   "outputs": [],
   "source": [
    "import matplotlib.pyplot as plt\n",
    "import seaborn as sb\n",
    "\n",
    "%matplotlib inline"
   ]
  },
  {
   "cell_type": "code",
   "execution_count": null,
   "metadata": {
    "colab": {
     "base_uri": "https://localhost:8080/"
    },
    "id": "Q5mTIQGcGo1V",
    "outputId": "72979dd7-6e24-4e22-cbe5-beb72eadd961"
   },
   "outputs": [
    {
     "data": {
      "text/plain": [
       "User ID             0\n",
       "Gender             36\n",
       "Age                 0\n",
       "EstimatedSalary     0\n",
       "Purchased           0\n",
       "dtype: int64"
      ]
     },
     "execution_count": 15,
     "metadata": {
      "tags": []
     },
     "output_type": "execute_result"
    }
   ],
   "source": [
    "#new_social_network_ads.isnull().sum()\n",
    "new_social_network_ads.isna().sum()"
   ]
  },
  {
   "cell_type": "code",
   "execution_count": null,
   "metadata": {
    "colab": {
     "base_uri": "https://localhost:8080/",
     "height": 408
    },
    "id": "P_hchrH0hYgx",
    "outputId": "f827a646-c084-4e1b-d2e7-6fdedd39fa2d"
   },
   "outputs": [
    {
     "name": "stderr",
     "output_type": "stream",
     "text": [
      "/usr/local/lib/python3.7/dist-packages/seaborn/_decorators.py:43: FutureWarning: Pass the following variables as keyword args: x, y. From version 0.12, the only valid positional argument will be `data`, and passing other arguments without an explicit keyword will result in an error or misinterpretation.\n",
      "  FutureWarning\n"
     ]
    },
    {
     "data": {
      "image/png": "[encoded data removed]",
      "text/plain": [
       "<Figure size 432x288 with 1 Axes>"
      ]
     },
     "metadata": {
      "needs_background": "light",
      "tags": []
     },
     "output_type": "display_data"
    }
   ],
   "source": [
    "na_counts = new_social_network_ads.isna().sum()\n",
    "plt.title(\"Those who didn't mentioned their gender\")\n",
    "base_color = sb.color_palette()[0]\n",
    "sb.barplot(na_counts.index.values, na_counts, color = base_color)\n",
    "plt.xticks(rotation=90);"
   ]
  },
  {
   "cell_type": "code",
   "execution_count": null,
   "metadata": {
    "colab": {
     "base_uri": "https://localhost:8080/",
     "height": 297
    },
    "id": "ERyo5U3Si3bV",
    "outputId": "1ec108d5-10e6-4305-c6eb-a8c440d78de7"
   },
   "outputs": [
    {
     "data": {
      "text/plain": [
       "<matplotlib.axes._subplots.AxesSubplot at 0x7fc12398b090>"
      ]
     },
     "execution_count": 25,
     "metadata": {
      "tags": []
     },
     "output_type": "execute_result"
    },
    {
     "data": {
      "image/png": "[encoded data removed]",
      "text/plain": [
       "<Figure size 432x288 with 1 Axes>"
      ]
     },
     "metadata": {
      "needs_background": "light",
      "tags": []
     },
     "output_type": "display_data"
    }
   ],
   "source": [
    "base_color = sb.color_palette()[2]\n",
    "sb.countplot(data = new_social_network_ads, y = 'Gender', color = base_color)"
   ]
  },
  {
   "cell_type": "markdown",
   "metadata": {
    "id": "-DLeWDvMrx6b"
   },
   "source": [
    "Females have Accounts more than Males"
   ]
  },
  {
   "cell_type": "code",
   "execution_count": null,
   "metadata": {
    "colab": {
     "base_uri": "https://localhost:8080/",
     "height": 297
    },
    "id": "nrBRd_znktv7",
    "outputId": "cfdb8a71-636e-47a4-aa7f-79b220063d11"
   },
   "outputs": [
    {
     "data": {
      "text/plain": [
       "<matplotlib.axes._subplots.AxesSubplot at 0x7fc1229f7bd0>"
      ]
     },
     "execution_count": 41,
     "metadata": {
      "tags": []
     },
     "output_type": "execute_result"
    },
    {
     "data": {
      "image/png": "[encoded data removed]",
      "text/plain": [
       "<Figure size 432x288 with 1 Axes>"
      ]
     },
     "metadata": {
      "needs_background": "light",
      "tags": []
     },
     "output_type": "display_data"
    }
   ],
   "source": [
    "sb.scatterplot(x = \"Age\", y=\"Purchased\", data=new_social_network_ads )"
   ]
  },
  {
   "cell_type": "markdown",
   "metadata": {
    "id": "GXyPFD_zsFJh"
   },
   "source": [
    "People above Age 30 purchased more."
   ]
  }
 ],
 "metadata": {
  "colab": {
   "collapsed_sections": [],
   "name": "Najla_assignment_2.ipynb",
   "provenance": []
  },
  "kernelspec": {
   "display_name": "Python 3",
   "language": "python",
   "name": "python3"
  },
  "language_info": {
   "codemirror_mode": {
    "name": "ipython",
    "version": 3
   },
   "file_extension": ".py",
   "mimetype": "text/x-python",
   "name": "python",
   "nbconvert_exporter": "python",
   "pygments_lexer": "ipython3",
   "version": "3.8.5"
  }
 },
 "nbformat": 4,
 "nbformat_minor": 1
}
